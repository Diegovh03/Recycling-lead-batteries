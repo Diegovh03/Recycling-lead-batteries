{
 "cells": [
  {
   "cell_type": "code",
   "execution_count": 2,
   "id": "a6e487df-1ed5-4c17-aaeb-138be0f14f71",
   "metadata": {},
   "outputs": [
    {
     "ename": "IndentationError",
     "evalue": "unindent does not match any outer indentation level (<string>, line 6)",
     "output_type": "error",
     "traceback": [
      "\u001b[1;36m  File \u001b[1;32m<string>:6\u001b[1;36m\u001b[0m\n\u001b[1;33m    def collect_initial_data(self):\u001b[0m\n\u001b[1;37m                                   ^\u001b[0m\n\u001b[1;31mIndentationError\u001b[0m\u001b[1;31m:\u001b[0m unindent does not match any outer indentation level\n"
     ]
    }
   ],
   "source": [
    "   def __init__(self):\n",
    "        self.responses = {}\n",
    "        self.efficiency = 0\n",
    "        self.total_smelting_mass = 0\n",
    "\n",
    "    def collect_initial_data(self):\n",
    "        self.efficiency = float(input(\"Enter the lead recovery efficiency percentage: \"))\n",
    "        number_of_batteries = int(input(\"Enter the number of batteries to recycle: \"))\n",
    "        self.calculate_battery_weight(number_of_batteries)\n",
    "\n",
    "    def calculate_battery_weight(self, number_of_batteries):\n",
    "        weight_per_battery_kg = 15\n",
    "        total_weight_kg = number_of_batteries * weight_per_battery_kg\n",
    "        self.total_smelting_mass = total_weight_kg / 1000  # Convertir a toneladas\n",
    "        print(f\"\\nThe total smelting mass is: {self.total_smelting_mass} tons.\")\n",
    "\n",
    "    def collect_emission_controls(self):\n",
    "        questions = [\n",
    "            \"Is there any control for Lead compounds?\",\n",
    "            \"Is there any control for other heavy metals?\",\n",
    "            \"Is there any control for particulate matter?\",\n",
    "            \"Is there any control for HAPs?\",\n",
    "            \"Is there any control for gaseous emissions?\",\n",
    "            \"Is there any control for acid gases?\",\n",
    "            \"Is there any control for dioxins or furans?\"\n",
    "        ]\n",
    "        \n",
    "        for question in questions:\n",
    "            self.responses[question] = input(f\"{question} (Yes/No): \").lower()\n",
    "\n",
    "    def evaluate_emissions(self):\n",
    "        emission_evaluation_messages = {\n",
    "            \"Is there any control for Lead compounds?\": \"Possible emissions related to Lead Oxide (Pb, PbO) from the rotary furnace operation.\",\n",
    "            \"Is there any control for other heavy metals?\": \"Possible emissions in lower concentration of antimony, arsenic, cadmium, nickel, and mercury from the rotary furnace operation.\",\n",
    "            \"Is there any control for particulate matter?\": \"Possible presence of particulate material PM10 and PM2.5 from combustion and material handling processes.\",\n",
    "            \"Is there any control for HAPs?\": \"Possible presence of carbon sulfide, 1,3 butadiene, benzene, toluene, and formaldehyde from the combustion process.\",\n",
    "            \"Is there any control for gaseous emissions?\": \"Possible presence of combustion gases such as CO, SO2, or NOx from flux materials and combustion.\",\n",
    "            \"Is there any control for acid gases?\": \"Possible presence of HCl and Cl2 due to the decomposition of PVC.\",\n",
    "            \"Is there any control for dioxins or furans?\": \"Possible presence of 2,3,7,8-TCDD from thermal processes.\"\n",
    "        }\n",
    "\n",
    "        print(\"\\nEmission Evaluation:\")\n",
    "        for question, answer in self.responses.items():\n",
    "            if answer == \"no\":\n",
    "                print(emission_evaluation_messages[question])\n",
    "\n",
    "    def provide_recommendations(self):\n",
    "        slag_percentage = {70: 38, 72: 36, 75: 34, 80: 34, 82: 30, 85: 25, 90: 18}\n",
    "        efficiency_ranges = [(70, 72), (72, 75), (75, 80), (82, 85), (85, 90), (90, 95)]\n",
    "        \n",
    "        slag_mass = 0\n",
    "        for (start, end), percentage in zip(efficiency_ranges, slag_percentage.values()):\n",
    "            if start <= self.efficiency <= end:\n",
    "                slag_mass = self.total_smelting_mass * (percentage / 100)\n",
    "                break\n",
    "\n",
    "        print(f\"\\nExpected slag mass based on efficiency: {slag_mass:.2f} tons.\")\n",
    "\n",
    "        # Recomendaciones basadas en eficiencia y respuestas a controles de emisión\n",
    "        print(\"\\nRecommendations based on your inputs:\")\n",
    "        if self.efficiency >= 70 and self.efficiency <= 80:\n",
    "            if all(value == \"no\" for value in self.responses.values()):\n",
    "                print(\"High probability that operations may be violating environmental standards. Implement control measures.\")\n",
    "            else:\n",
    "                print(\"There is control over some parameters, but risks of other potential impacts exist. Consider conducting environmental monitoring and operational reviews.\")\n",
    "        elif self.efficiency >= 85 and self.efficiency <= 90:\n",
    "            if all(value == \"yes\" for key, value in self.responses.items() if key in [\"Is there any control for particulate matter?\", \"Is there any control for other heavy metals?\", \"Is there any control for acid gases?\", \"Is there any control for Lead compounds?\"]):\n",
    "                print(\"You are doing a good job. The main sources of emissions are controlled. Do not forget continuous maintenance and monitoring.\")\n",
    "            else:\n",
    "                print(\"Excellent job! Keep it up and aim for continuous improvement.\")\n",
    "        else:\n",
    "            # Añadir más condiciones según sea necesario\n",
    "            print(\"Please review your efficiency and control measures to ensure environmental compliance.\")\n",
    "\n",
    "# Crear y ejecutar la instancia de la aplicación\n",
    "app = EnvironmentalAnalysisLABs()\n",
    "app.collect_initial_data()\n",
    "app.collect_emission_controls()\n",
    "app.evaluate_emissions()\n",
    "app.provide_recommendations()"
   ]
  },
  {
   "cell_type": "code",
   "execution_count": null,
   "id": "48630b7f-4487-4ab6-9443-ea8a1804b1a6",
   "metadata": {},
   "outputs": [],
   "source": []
  },
  {
   "cell_type": "code",
   "execution_count": null,
   "id": "dd3ec8e7-28fd-4582-93ee-692162b97713",
   "metadata": {},
   "outputs": [],
   "source": []
  }
 ],
 "metadata": {
  "kernelspec": {
   "display_name": "Python 3 (ipykernel)",
   "language": "python",
   "name": "python3"
  },
  "language_info": {
   "codemirror_mode": {
    "name": "ipython",
    "version": 3
   },
   "file_extension": ".py",
   "mimetype": "text/x-python",
   "name": "python",
   "nbconvert_exporter": "python",
   "pygments_lexer": "ipython3",
   "version": "3.12.2"
  }
 },
 "nbformat": 4,
 "nbformat_minor": 5
}
